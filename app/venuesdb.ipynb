{
 "cells": [
  {
   "cell_type": "code",
   "execution_count": 5,
   "metadata": {},
   "outputs": [],
   "source": [
    "import sqlite3"
   ]
  },
  {
   "cell_type": "code",
   "execution_count": 6,
   "metadata": {},
   "outputs": [],
   "source": [
    "conn = sqlite3.connect('venues.db')\n",
    "c = conn.cursor()"
   ]
  },
  {
   "cell_type": "code",
   "execution_count": 3,
   "metadata": {},
   "outputs": [
    {
     "data": {
      "text/plain": [
       "<sqlite3.Cursor at 0x1b6f87698c0>"
      ]
     },
     "execution_count": 3,
     "metadata": {},
     "output_type": "execute_result"
    }
   ],
   "source": [
    "c.execute('''\n",
    "    CREATE TABLE venues (\n",
    "        id INTEGER PRIMARY KEY,\n",
    "        name TEXT NOT NULL,\n",
    "        address TEXT,\n",
    "        photo_url TEXT,\n",
    "        playground BINARY,\n",
    "        fenced BINARY,\n",
    "        quiet_zones BINARY,\n",
    "        colors BINARY,\n",
    "        smells BINARY,\n",
    "        food_own BINARY,\n",
    "        defined_duration BINARY,\n",
    "        quiet REAL,\n",
    "        crowdedness REAL,\n",
    "        food_variey REAL,\n",
    "        tips TEXT\n",
    "        \n",
    "    )\n",
    "''')"
   ]
  },
  {
   "cell_type": "code",
   "execution_count": 9,
   "metadata": {},
   "outputs": [
    {
     "data": {
      "text/plain": [
       "<sqlite3.Cursor at 0x18ebbfe0040>"
      ]
     },
     "execution_count": 9,
     "metadata": {},
     "output_type": "execute_result"
    }
   ],
   "source": [
    "c.execute('''\n",
    "    INSERT INTO venues (name, address, photo_url, playground, fenced, quiet_zones, colors, smells, food_own, defined_duration, quiet, crowdedness, food_variey) VALUES\n",
    "    ('Adventure Park Voglsam', 'Voglsam 1, 84337 Schönau', 'https://lh3.googleusercontent.com/p/AF1QipN_opfkihmBL6fqWUn8cgbjpanA3yGM0NPqRT0D=s680-w680-h510', 1, 0, 1, 1, 0, 1, 0, 3, 3, 4)\n",
    "''')"
   ]
  },
  {
   "cell_type": "code",
   "execution_count": 10,
   "metadata": {},
   "outputs": [
    {
     "name": "stdout",
     "output_type": "stream",
     "text": [
      "(1, 'Bowling-Center Pfarrkirchen', 'Bahnweg 11 A, 84347 Pfarrkirchen', 'https://lh3.googleusercontent.com/p/AF1QipMtaA0fkL4_efmTy3-Lc78gbPhSVQDdbnbcHUUA=s680-w680-h510', 1, 0, 0, 1, 1, 0, 0, 3.0, 2.0, 4.0, None)\n",
      "(2, 'Adventure Park Voglsam', 'Voglsam 1, 84337 Schönau', 'https://lh3.googleusercontent.com/p/AF1QipN_opfkihmBL6fqWUn8cgbjpanA3yGM0NPqRT0D=s680-w680-h510', 1, 0, 1, 1, 0, 1, 0, 3.0, 3.0, 4.0, None)\n"
     ]
    }
   ],
   "source": [
    "c.execute('SELECT * FROM venues')\n",
    "rows = c.fetchall()\n",
    "\n",
    "# Print the results\n",
    "for row in rows:\n",
    "    print(row)\n",
    "\n"
   ]
  }
 ],
 "metadata": {
  "kernelspec": {
   "display_name": "Python 3",
   "language": "python",
   "name": "python3"
  },
  "language_info": {
   "codemirror_mode": {
    "name": "ipython",
    "version": 3
   },
   "file_extension": ".py",
   "mimetype": "text/x-python",
   "name": "python",
   "nbconvert_exporter": "python",
   "pygments_lexer": "ipython3",
   "version": "3.12.1"
  }
 },
 "nbformat": 4,
 "nbformat_minor": 2
}
